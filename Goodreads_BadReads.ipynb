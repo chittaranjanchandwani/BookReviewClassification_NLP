{
  "cells": [
    {
      "cell_type": "markdown",
      "source": [
        "# **GoodReads or BadReads?**\n",
        "\n",
        "Given the review text and other information about it, you have to predict the rating associated with\n",
        "that review. This is a classification problem. Rating 0, 1, 2, 3, 4, and 5 are the classes"
      ],
      "metadata": {
        "id": "wpYFhUHWKajA"
      }
    },
    {
      "cell_type": "code",
      "execution_count": 1,
      "metadata": {
        "colab": {
          "base_uri": "https://localhost:8080/"
        },
        "id": "Wa0gNnblh_dw",
        "outputId": "3ba49bc3-fc58-46c2-c60e-0c67449a882e"
      },
      "outputs": [
        {
          "output_type": "stream",
          "name": "stdout",
          "text": [
            "Drive already mounted at /content/drive; to attempt to forcibly remount, call drive.mount(\"/content/drive\", force_remount=True).\n"
          ]
        }
      ],
      "source": [
        "from google.colab import drive\n",
        "drive.mount('/content/drive')"
      ]
    },
    {
      "cell_type": "code",
      "source": [
        "import pandas as pd\n",
        "from bs4 import BeautifulSoup\n",
        "import unicodedata\n",
        "import re\n",
        "import string\n",
        "import nltk\n",
        "from nltk.corpus import stopwords\n",
        "from nltk.tokenize import word_tokenize\n",
        "from nltk.stem import WordNetLemmatizer\n",
        "from tqdm import tqdm\n",
        "from imblearn.over_sampling import RandomOverSampler\n",
        "import pandas as pd\n",
        "from imblearn.under_sampling import RandomUnderSampler\n",
        "from imblearn.over_sampling import RandomOverSampler\n",
        "import pandas as pd\n",
        "from sklearn.model_selection import train_test_split\n",
        "from sklearn.feature_extraction.text import TfidfVectorizer\n",
        "from sklearn.metrics import accuracy_score\n",
        "import xgboost as xgb\n",
        "import nltk\n",
        "from nltk.corpus import stopwords\n",
        "from nltk.stem import PorterStemmer\n",
        "from sklearn.metrics import classification_report\n",
        "from sklearn.ensemble import RandomForestClassifier\n",
        "from sklearn.linear_model import LogisticRegression\n",
        "from sklearn.metrics import accuracy_score\n",
        "from sklearn.metrics import confusion_matrix\n",
        "import matplotlib.pyplot as plt\n",
        "import numpy as np\n",
        "import itertools\n",
        "from sklearn.svm import LinearSVC\n",
        "from sklearn.metrics import accuracy_score, classification_report\n",
        "from sklearn.model_selection import GridSearchCV\n",
        "from sklearn.svm import SVC\n",
        "# Download NLTK resources\n",
        "nltk.download('punkt')\n",
        "nltk.download('stopwords')\n",
        "nltk.download('wordnet')\n",
        "nltk.download('averaged_perceptron_tagger')\n",
        "from nltk.corpus import wordnet\n"
      ],
      "metadata": {
        "id": "uYEqwyDINsZA",
        "colab": {
          "base_uri": "https://localhost:8080/"
        },
        "outputId": "1a57aa12-875a-4ab4-f724-4c7f604320ae"
      },
      "execution_count": 2,
      "outputs": [
        {
          "output_type": "stream",
          "name": "stderr",
          "text": [
            "[nltk_data] Downloading package punkt to /root/nltk_data...\n",
            "[nltk_data]   Package punkt is already up-to-date!\n",
            "[nltk_data] Downloading package stopwords to /root/nltk_data...\n",
            "[nltk_data]   Package stopwords is already up-to-date!\n",
            "[nltk_data] Downloading package wordnet to /root/nltk_data...\n",
            "[nltk_data]   Package wordnet is already up-to-date!\n",
            "[nltk_data] Downloading package averaged_perceptron_tagger to\n",
            "[nltk_data]     /root/nltk_data...\n",
            "[nltk_data]   Package averaged_perceptron_tagger is already up-to-\n",
            "[nltk_data]       date!\n"
          ]
        }
      ]
    },
    {
      "cell_type": "markdown",
      "source": [
        "The train.csv file is read and loaded onto a pandas dataframe"
      ],
      "metadata": {
        "id": "g_LalyJHP_G3"
      }
    },
    {
      "cell_type": "code",
      "execution_count": 3,
      "metadata": {
        "id": "y_UlmTFtiNaW"
      },
      "outputs": [],
      "source": [
        "\n",
        "\n",
        "df = pd.read_csv('/content/drive/MyDrive/train.csv')\n",
        "df = df.dropna(subset=['rating', 'review_text'])"
      ]
    },
    {
      "cell_type": "code",
      "execution_count": 27,
      "metadata": {
        "colab": {
          "base_uri": "https://localhost:8080/",
          "height": 501
        },
        "id": "RC0SmqWokgyL",
        "outputId": "123047b4-fd10-4916-880d-d8b5f29199ea"
      },
      "outputs": [
        {
          "output_type": "execute_result",
          "data": {
            "text/plain": [
              "                            user_id   book_id  \\\n",
              "0  5845f85c23e768f0636c9c7f77f3a529   7134202   \n",
              "1  4251532f32b7e8b98912188f4d962eb1   2767052   \n",
              "2  2cabd95f62285fc08f4c544afaee5ea4   8492856   \n",
              "3  2d61d345434328a188f805ec75dde2c2  13206760   \n",
              "4  a3e696e6ced8daae338eccf12ac58053   7171637   \n",
              "\n",
              "                          review_id  \\\n",
              "0  55d9037adc00645b17f0cf43fa4d053e   \n",
              "1  e5f389a112b12d560e42e0c5c3d4eb35   \n",
              "2  e7892549ac69653aceaac86760575aa0   \n",
              "3  ab4acc9ad0a24a072356c331880b83d5   \n",
              "4  0b65c86a90814e4ab5db50e0cd3dc808   \n",
              "\n",
              "                                         review_text  \\\n",
              "0  I \"read\" this as an audiobook. \\n This book fo...   \n",
              "1  Easily one of the best sci-fi books out there ...   \n",
              "2  Best. Sarah. Dessen. Book. Ever. And to anyone...   \n",
              "3  This series just gets better and better, and S...   \n",
              "4  For reviews on all the hottest to the underhyp...   \n",
              "\n",
              "                       date_added                    date_updated  \\\n",
              "0  Tue Sep 12 17:14:59 -0700 2017  Tue Sep 12 17:24:30 -0700 2017   \n",
              "1  Sat Mar 14 13:28:52 -0700 2009  Fri Mar 27 12:25:19 -0700 2009   \n",
              "2  Tue Oct 23 05:51:53 -0700 2012  Sat May 18 02:19:43 -0700 2013   \n",
              "3  Thu Sep 03 14:18:43 -0700 2015  Thu Feb 18 07:11:43 -0800 2016   \n",
              "4  Wed May 30 00:44:56 -0700 2012  Mon Mar 18 05:37:27 -0700 2013   \n",
              "\n",
              "                          read_at                      started_at  n_votes  \\\n",
              "0  Mon Sep 11 00:00:00 -0700 2017  Sun Jan 01 00:00:00 -0800 2017        0   \n",
              "1                             NaN                             NaN        0   \n",
              "2                             NaN                             NaN        0   \n",
              "3  Sun Sep 06 16:42:33 -0700 2015  Thu Sep 03 00:00:00 -0700 2015        0   \n",
              "4  Mon Mar 18 05:37:27 -0700 2013  Sun Mar 17 00:00:00 -0700 2013        0   \n",
              "\n",
              "   n_comments  rating  \n",
              "0           0       3  \n",
              "1           0       5  \n",
              "2           0       4  \n",
              "3           0       5  \n",
              "4           0       5  "
            ],
            "text/html": [
              "\n",
              "  <div id=\"df-59a659ea-4d7e-4bad-9ed3-79473a73ce75\" class=\"colab-df-container\">\n",
              "    <div>\n",
              "<style scoped>\n",
              "    .dataframe tbody tr th:only-of-type {\n",
              "        vertical-align: middle;\n",
              "    }\n",
              "\n",
              "    .dataframe tbody tr th {\n",
              "        vertical-align: top;\n",
              "    }\n",
              "\n",
              "    .dataframe thead th {\n",
              "        text-align: right;\n",
              "    }\n",
              "</style>\n",
              "<table border=\"1\" class=\"dataframe\">\n",
              "  <thead>\n",
              "    <tr style=\"text-align: right;\">\n",
              "      <th></th>\n",
              "      <th>user_id</th>\n",
              "      <th>book_id</th>\n",
              "      <th>review_id</th>\n",
              "      <th>review_text</th>\n",
              "      <th>date_added</th>\n",
              "      <th>date_updated</th>\n",
              "      <th>read_at</th>\n",
              "      <th>started_at</th>\n",
              "      <th>n_votes</th>\n",
              "      <th>n_comments</th>\n",
              "      <th>rating</th>\n",
              "    </tr>\n",
              "  </thead>\n",
              "  <tbody>\n",
              "    <tr>\n",
              "      <th>0</th>\n",
              "      <td>5845f85c23e768f0636c9c7f77f3a529</td>\n",
              "      <td>7134202</td>\n",
              "      <td>55d9037adc00645b17f0cf43fa4d053e</td>\n",
              "      <td>I \"read\" this as an audiobook. \\n This book fo...</td>\n",
              "      <td>Tue Sep 12 17:14:59 -0700 2017</td>\n",
              "      <td>Tue Sep 12 17:24:30 -0700 2017</td>\n",
              "      <td>Mon Sep 11 00:00:00 -0700 2017</td>\n",
              "      <td>Sun Jan 01 00:00:00 -0800 2017</td>\n",
              "      <td>0</td>\n",
              "      <td>0</td>\n",
              "      <td>3</td>\n",
              "    </tr>\n",
              "    <tr>\n",
              "      <th>1</th>\n",
              "      <td>4251532f32b7e8b98912188f4d962eb1</td>\n",
              "      <td>2767052</td>\n",
              "      <td>e5f389a112b12d560e42e0c5c3d4eb35</td>\n",
              "      <td>Easily one of the best sci-fi books out there ...</td>\n",
              "      <td>Sat Mar 14 13:28:52 -0700 2009</td>\n",
              "      <td>Fri Mar 27 12:25:19 -0700 2009</td>\n",
              "      <td>NaN</td>\n",
              "      <td>NaN</td>\n",
              "      <td>0</td>\n",
              "      <td>0</td>\n",
              "      <td>5</td>\n",
              "    </tr>\n",
              "    <tr>\n",
              "      <th>2</th>\n",
              "      <td>2cabd95f62285fc08f4c544afaee5ea4</td>\n",
              "      <td>8492856</td>\n",
              "      <td>e7892549ac69653aceaac86760575aa0</td>\n",
              "      <td>Best. Sarah. Dessen. Book. Ever. And to anyone...</td>\n",
              "      <td>Tue Oct 23 05:51:53 -0700 2012</td>\n",
              "      <td>Sat May 18 02:19:43 -0700 2013</td>\n",
              "      <td>NaN</td>\n",
              "      <td>NaN</td>\n",
              "      <td>0</td>\n",
              "      <td>0</td>\n",
              "      <td>4</td>\n",
              "    </tr>\n",
              "    <tr>\n",
              "      <th>3</th>\n",
              "      <td>2d61d345434328a188f805ec75dde2c2</td>\n",
              "      <td>13206760</td>\n",
              "      <td>ab4acc9ad0a24a072356c331880b83d5</td>\n",
              "      <td>This series just gets better and better, and S...</td>\n",
              "      <td>Thu Sep 03 14:18:43 -0700 2015</td>\n",
              "      <td>Thu Feb 18 07:11:43 -0800 2016</td>\n",
              "      <td>Sun Sep 06 16:42:33 -0700 2015</td>\n",
              "      <td>Thu Sep 03 00:00:00 -0700 2015</td>\n",
              "      <td>0</td>\n",
              "      <td>0</td>\n",
              "      <td>5</td>\n",
              "    </tr>\n",
              "    <tr>\n",
              "      <th>4</th>\n",
              "      <td>a3e696e6ced8daae338eccf12ac58053</td>\n",
              "      <td>7171637</td>\n",
              "      <td>0b65c86a90814e4ab5db50e0cd3dc808</td>\n",
              "      <td>For reviews on all the hottest to the underhyp...</td>\n",
              "      <td>Wed May 30 00:44:56 -0700 2012</td>\n",
              "      <td>Mon Mar 18 05:37:27 -0700 2013</td>\n",
              "      <td>Mon Mar 18 05:37:27 -0700 2013</td>\n",
              "      <td>Sun Mar 17 00:00:00 -0700 2013</td>\n",
              "      <td>0</td>\n",
              "      <td>0</td>\n",
              "      <td>5</td>\n",
              "    </tr>\n",
              "  </tbody>\n",
              "</table>\n",
              "</div>\n",
              "    <div class=\"colab-df-buttons\">\n",
              "\n",
              "  <div class=\"colab-df-container\">\n",
              "    <button class=\"colab-df-convert\" onclick=\"convertToInteractive('df-59a659ea-4d7e-4bad-9ed3-79473a73ce75')\"\n",
              "            title=\"Convert this dataframe to an interactive table.\"\n",
              "            style=\"display:none;\">\n",
              "\n",
              "  <svg xmlns=\"http://www.w3.org/2000/svg\" height=\"24px\" viewBox=\"0 -960 960 960\">\n",
              "    <path d=\"M120-120v-720h720v720H120Zm60-500h600v-160H180v160Zm220 220h160v-160H400v160Zm0 220h160v-160H400v160ZM180-400h160v-160H180v160Zm440 0h160v-160H620v160ZM180-180h160v-160H180v160Zm440 0h160v-160H620v160Z\"/>\n",
              "  </svg>\n",
              "    </button>\n",
              "\n",
              "  <style>\n",
              "    .colab-df-container {\n",
              "      display:flex;\n",
              "      gap: 12px;\n",
              "    }\n",
              "\n",
              "    .colab-df-convert {\n",
              "      background-color: #E8F0FE;\n",
              "      border: none;\n",
              "      border-radius: 50%;\n",
              "      cursor: pointer;\n",
              "      display: none;\n",
              "      fill: #1967D2;\n",
              "      height: 32px;\n",
              "      padding: 0 0 0 0;\n",
              "      width: 32px;\n",
              "    }\n",
              "\n",
              "    .colab-df-convert:hover {\n",
              "      background-color: #E2EBFA;\n",
              "      box-shadow: 0px 1px 2px rgba(60, 64, 67, 0.3), 0px 1px 3px 1px rgba(60, 64, 67, 0.15);\n",
              "      fill: #174EA6;\n",
              "    }\n",
              "\n",
              "    .colab-df-buttons div {\n",
              "      margin-bottom: 4px;\n",
              "    }\n",
              "\n",
              "    [theme=dark] .colab-df-convert {\n",
              "      background-color: #3B4455;\n",
              "      fill: #D2E3FC;\n",
              "    }\n",
              "\n",
              "    [theme=dark] .colab-df-convert:hover {\n",
              "      background-color: #434B5C;\n",
              "      box-shadow: 0px 1px 3px 1px rgba(0, 0, 0, 0.15);\n",
              "      filter: drop-shadow(0px 1px 2px rgba(0, 0, 0, 0.3));\n",
              "      fill: #FFFFFF;\n",
              "    }\n",
              "  </style>\n",
              "\n",
              "    <script>\n",
              "      const buttonEl =\n",
              "        document.querySelector('#df-59a659ea-4d7e-4bad-9ed3-79473a73ce75 button.colab-df-convert');\n",
              "      buttonEl.style.display =\n",
              "        google.colab.kernel.accessAllowed ? 'block' : 'none';\n",
              "\n",
              "      async function convertToInteractive(key) {\n",
              "        const element = document.querySelector('#df-59a659ea-4d7e-4bad-9ed3-79473a73ce75');\n",
              "        const dataTable =\n",
              "          await google.colab.kernel.invokeFunction('convertToInteractive',\n",
              "                                                    [key], {});\n",
              "        if (!dataTable) return;\n",
              "\n",
              "        const docLinkHtml = 'Like what you see? Visit the ' +\n",
              "          '<a target=\"_blank\" href=https://colab.research.google.com/notebooks/data_table.ipynb>data table notebook</a>'\n",
              "          + ' to learn more about interactive tables.';\n",
              "        element.innerHTML = '';\n",
              "        dataTable['output_type'] = 'display_data';\n",
              "        await google.colab.output.renderOutput(dataTable, element);\n",
              "        const docLink = document.createElement('div');\n",
              "        docLink.innerHTML = docLinkHtml;\n",
              "        element.appendChild(docLink);\n",
              "      }\n",
              "    </script>\n",
              "  </div>\n",
              "\n",
              "\n",
              "<div id=\"df-5a6dedd5-c359-4019-b6da-b45103efae15\">\n",
              "  <button class=\"colab-df-quickchart\" onclick=\"quickchart('df-5a6dedd5-c359-4019-b6da-b45103efae15')\"\n",
              "            title=\"Suggest charts\"\n",
              "            style=\"display:none;\">\n",
              "\n",
              "<svg xmlns=\"http://www.w3.org/2000/svg\" height=\"24px\"viewBox=\"0 0 24 24\"\n",
              "     width=\"24px\">\n",
              "    <g>\n",
              "        <path d=\"M19 3H5c-1.1 0-2 .9-2 2v14c0 1.1.9 2 2 2h14c1.1 0 2-.9 2-2V5c0-1.1-.9-2-2-2zM9 17H7v-7h2v7zm4 0h-2V7h2v10zm4 0h-2v-4h2v4z\"/>\n",
              "    </g>\n",
              "</svg>\n",
              "  </button>\n",
              "\n",
              "<style>\n",
              "  .colab-df-quickchart {\n",
              "      --bg-color: #E8F0FE;\n",
              "      --fill-color: #1967D2;\n",
              "      --hover-bg-color: #E2EBFA;\n",
              "      --hover-fill-color: #174EA6;\n",
              "      --disabled-fill-color: #AAA;\n",
              "      --disabled-bg-color: #DDD;\n",
              "  }\n",
              "\n",
              "  [theme=dark] .colab-df-quickchart {\n",
              "      --bg-color: #3B4455;\n",
              "      --fill-color: #D2E3FC;\n",
              "      --hover-bg-color: #434B5C;\n",
              "      --hover-fill-color: #FFFFFF;\n",
              "      --disabled-bg-color: #3B4455;\n",
              "      --disabled-fill-color: #666;\n",
              "  }\n",
              "\n",
              "  .colab-df-quickchart {\n",
              "    background-color: var(--bg-color);\n",
              "    border: none;\n",
              "    border-radius: 50%;\n",
              "    cursor: pointer;\n",
              "    display: none;\n",
              "    fill: var(--fill-color);\n",
              "    height: 32px;\n",
              "    padding: 0;\n",
              "    width: 32px;\n",
              "  }\n",
              "\n",
              "  .colab-df-quickchart:hover {\n",
              "    background-color: var(--hover-bg-color);\n",
              "    box-shadow: 0 1px 2px rgba(60, 64, 67, 0.3), 0 1px 3px 1px rgba(60, 64, 67, 0.15);\n",
              "    fill: var(--button-hover-fill-color);\n",
              "  }\n",
              "\n",
              "  .colab-df-quickchart-complete:disabled,\n",
              "  .colab-df-quickchart-complete:disabled:hover {\n",
              "    background-color: var(--disabled-bg-color);\n",
              "    fill: var(--disabled-fill-color);\n",
              "    box-shadow: none;\n",
              "  }\n",
              "\n",
              "  .colab-df-spinner {\n",
              "    border: 2px solid var(--fill-color);\n",
              "    border-color: transparent;\n",
              "    border-bottom-color: var(--fill-color);\n",
              "    animation:\n",
              "      spin 1s steps(1) infinite;\n",
              "  }\n",
              "\n",
              "  @keyframes spin {\n",
              "    0% {\n",
              "      border-color: transparent;\n",
              "      border-bottom-color: var(--fill-color);\n",
              "      border-left-color: var(--fill-color);\n",
              "    }\n",
              "    20% {\n",
              "      border-color: transparent;\n",
              "      border-left-color: var(--fill-color);\n",
              "      border-top-color: var(--fill-color);\n",
              "    }\n",
              "    30% {\n",
              "      border-color: transparent;\n",
              "      border-left-color: var(--fill-color);\n",
              "      border-top-color: var(--fill-color);\n",
              "      border-right-color: var(--fill-color);\n",
              "    }\n",
              "    40% {\n",
              "      border-color: transparent;\n",
              "      border-right-color: var(--fill-color);\n",
              "      border-top-color: var(--fill-color);\n",
              "    }\n",
              "    60% {\n",
              "      border-color: transparent;\n",
              "      border-right-color: var(--fill-color);\n",
              "    }\n",
              "    80% {\n",
              "      border-color: transparent;\n",
              "      border-right-color: var(--fill-color);\n",
              "      border-bottom-color: var(--fill-color);\n",
              "    }\n",
              "    90% {\n",
              "      border-color: transparent;\n",
              "      border-bottom-color: var(--fill-color);\n",
              "    }\n",
              "  }\n",
              "</style>\n",
              "\n",
              "  <script>\n",
              "    async function quickchart(key) {\n",
              "      const quickchartButtonEl =\n",
              "        document.querySelector('#' + key + ' button');\n",
              "      quickchartButtonEl.disabled = true;  // To prevent multiple clicks.\n",
              "      quickchartButtonEl.classList.add('colab-df-spinner');\n",
              "      try {\n",
              "        const charts = await google.colab.kernel.invokeFunction(\n",
              "            'suggestCharts', [key], {});\n",
              "      } catch (error) {\n",
              "        console.error('Error during call to suggestCharts:', error);\n",
              "      }\n",
              "      quickchartButtonEl.classList.remove('colab-df-spinner');\n",
              "      quickchartButtonEl.classList.add('colab-df-quickchart-complete');\n",
              "    }\n",
              "    (() => {\n",
              "      let quickchartButtonEl =\n",
              "        document.querySelector('#df-5a6dedd5-c359-4019-b6da-b45103efae15 button');\n",
              "      quickchartButtonEl.style.display =\n",
              "        google.colab.kernel.accessAllowed ? 'block' : 'none';\n",
              "    })();\n",
              "  </script>\n",
              "</div>\n",
              "\n",
              "    </div>\n",
              "  </div>\n"
            ]
          },
          "metadata": {},
          "execution_count": 27
        }
      ],
      "source": [
        "df.head()"
      ]
    },
    {
      "cell_type": "code",
      "execution_count": 28,
      "metadata": {
        "colab": {
          "base_uri": "https://localhost:8080/"
        },
        "id": "DYQHVg_a3Mkh",
        "outputId": "08eb9fcc-b82c-4d2b-e0f6-04959d3231d2"
      },
      "outputs": [
        {
          "output_type": "stream",
          "name": "stdout",
          "text": [
            "<class 'pandas.core.frame.DataFrame'>\n",
            "RangeIndex: 630000 entries, 0 to 629999\n",
            "Data columns (total 11 columns):\n",
            " #   Column        Non-Null Count   Dtype \n",
            "---  ------        --------------   ----- \n",
            " 0   user_id       630000 non-null  object\n",
            " 1   book_id       630000 non-null  int64 \n",
            " 2   review_id     630000 non-null  object\n",
            " 3   review_text   630000 non-null  object\n",
            " 4   date_added    630000 non-null  object\n",
            " 5   date_updated  630000 non-null  object\n",
            " 6   read_at       565775 non-null  object\n",
            " 7   started_at    437963 non-null  object\n",
            " 8   n_votes       630000 non-null  int64 \n",
            " 9   n_comments    630000 non-null  int64 \n",
            " 10  rating        630000 non-null  int64 \n",
            "dtypes: int64(4), object(7)\n",
            "memory usage: 52.9+ MB\n"
          ]
        }
      ],
      "source": [
        "df.info()"
      ]
    },
    {
      "cell_type": "markdown",
      "source": [
        "The six classification classes are the ratings for a book numbered from 0,1,2,3,4,5"
      ],
      "metadata": {
        "id": "wPQgjX5RQNMH"
      }
    },
    {
      "cell_type": "code",
      "execution_count": 29,
      "metadata": {
        "colab": {
          "base_uri": "https://localhost:8080/"
        },
        "id": "gm_XdSJiAPVm",
        "outputId": "8080fb14-626a-47b5-83a7-c6b72b414fb4"
      },
      "outputs": [
        {
          "output_type": "execute_result",
          "data": {
            "text/plain": [
              "array([3, 5, 4, 0, 2, 1])"
            ]
          },
          "metadata": {},
          "execution_count": 29
        }
      ],
      "source": [
        "df.rating.unique()"
      ]
    },
    {
      "cell_type": "markdown",
      "source": [
        "## **Data Pre-Processing**\n",
        "\n",
        "Data preprocessing is an integral part while performing any text analysis or NLP task.\n",
        "\n",
        "We have undertaken the following steps for data preprocessing of the review text\n",
        "1. Conversion of all text to lowercase\n",
        "2. Removing HTML tags\n",
        "3. Removing any special characters, punctuation marks etc, which are irrelevant to review ratings\n",
        "4. **Tokenization**: In tokenization we split the text in to words 'tokens'\n",
        "5. **Removal of Stopwords**: Stop-words in English language are words like a, an, the, this, that etc. These words do not impact whether the review is good or bad, hence are removed\n",
        "6.**Lemmatization**: This is the process of grouping different forms of the same word together (improves, improving, improved etc)\n"
      ],
      "metadata": {
        "id": "fLoir0JkQRAg"
      }
    },
    {
      "cell_type": "code",
      "execution_count": 4,
      "metadata": {
        "colab": {
          "base_uri": "https://localhost:8080/"
        },
        "id": "Bv3U9KldBsYo",
        "outputId": "fa1f4825-bcbb-4938-b580-2d535852844b"
      },
      "outputs": [
        {
          "output_type": "stream",
          "name": "stderr",
          "text": [
            "  0%|          | 66/630000 [00:01<3:24:25, 51.36it/s] <ipython-input-4-e6b1618c39da>:6: MarkupResemblesLocatorWarning: The input looks more like a filename than markup. You may want to open this file and pass the filehandle into Beautiful Soup.\n",
            "  text = BeautifulSoup(text, \"html.parser\").get_text()\n",
            "100%|██████████| 630000/630000 [18:15<00:00, 574.83it/s]\n"
          ]
        }
      ],
      "source": [
        "\n",
        "\n",
        "def preprocess_text(text):\n",
        "    # Convert to lowercase\n",
        "    text = text.lower()\n",
        "\n",
        "    # Remove HTML tags\n",
        "    text = BeautifulSoup(text, \"html.parser\").get_text()\n",
        "\n",
        "    # Remove numbers, punctuation, and special characters\n",
        "    text = re.sub(r'\\d+', '', text)\n",
        "    text = text.translate(str.maketrans('', '', string.punctuation))\n",
        "\n",
        "    # Tokenization (split the text into words)\n",
        "    words = word_tokenize(text)\n",
        "\n",
        "    # Remove stop words\n",
        "    stop_words = set(stopwords.words('english'))\n",
        "    words = [word for word in words if word not in stop_words]\n",
        "\n",
        "    # Lemmatization (using WordNet Lemmatizer)\n",
        "    lemmatizer = WordNetLemmatizer()\n",
        "    words = [lemmatizer.lemmatize(word) for word in words]\n",
        "\n",
        "    # Join the words back into a single string\n",
        "    processed_text = ' '.join(words)\n",
        "\n",
        "    return processed_text\n",
        "\n",
        "\n",
        "tqdm.pandas()\n",
        "\n",
        "\n",
        "df['review_text'] = df['review_text'].progress_apply(preprocess_text)"
      ]
    },
    {
      "cell_type": "markdown",
      "source": [
        " **This is a multi-class classification problem. The class distribution might be skewed towards\n",
        "higher ratings (1 star ratings are always rare). How would you tackle class imbalance?**\n",
        "\n",
        "Here to solve this issue we use the Random Over Sampler provided by the sklearn library where we resample the data by Downsampling the Majority class by adding data points of minority classes. It increases the number of instances of the minority class by randomly duplicating existing instances until the classes are balanced."
      ],
      "metadata": {
        "id": "3YzwlmRqTWVf"
      }
    },
    {
      "cell_type": "code",
      "execution_count": 5,
      "metadata": {
        "id": "9g669BEpCZAM"
      },
      "outputs": [],
      "source": [
        "# Downsample the majority class using RandomUnderSampler\n",
        "\n",
        "\n",
        "ros = RandomOverSampler(random_state=42)\n",
        "X_resampled, y_resampled = ros.fit_resample(df[['review_text']], df['rating'])\n",
        "\n",
        "# Create a new DataFrame with the resampled data\n",
        "df_resampled = pd.DataFrame({'review_text': X_resampled['review_text'], 'rating': y_resampled})"
      ]
    },
    {
      "cell_type": "code",
      "execution_count": 6,
      "metadata": {
        "colab": {
          "base_uri": "https://localhost:8080/"
        },
        "id": "l_JgfmwSJ-Gr",
        "outputId": "9c376b61-97c6-4d68-f0d6-a417da503a86"
      },
      "outputs": [
        {
          "output_type": "execute_result",
          "data": {
            "text/plain": [
              "1317486"
            ]
          },
          "metadata": {},
          "execution_count": 6
        }
      ],
      "source": [
        "len(df_resampled)"
      ]
    },
    {
      "cell_type": "markdown",
      "source": [
        "The resampled data is split into train test splits for validation purposes.\n",
        "\n",
        "\n",
        "Following that we use the **TF-IDF (Term Frequency-Inverse Document Frequency)** to extract meaningful features from the data.\n",
        "\n",
        "TF-IDF (Term Frequency-Inverse Document Frequency) is a numerical statistic that reflects the importance of a word in a document relative to a collection of documents (corpus). It is commonly used in natural language processing and information retrieval to extract meaningful features from text data. Here's a brief explanation of TF-IDF:\n",
        "\n",
        "1. Term Frequency (TF): Term Frequency measures how frequently a term (word) appears in a document.\n",
        "It is calculated as the ratio of the number of times a term appears in a document to the total number of terms in the document.\n",
        "\n",
        "2. Inverse Document Frequency (IDF): Inverse Document Frequency measures the rarity of a term across a collection of documents.\n",
        "It is calculated as the logarithm of the ratio of the total number of documents to the number of documents containing the term, plus one to avoid division by zero.\n",
        "\n",
        "3. TF-IDF: TF-IDF is the product of TF and IDF, representing the importance of a term in a document relative to the entire corpus.\n",
        "The formula for TF-IDF is given by: TF-IDF(t,d,D)=TF(t,d)×IDF(t,D)"
      ],
      "metadata": {
        "id": "X0W4gadwUmwQ"
      }
    },
    {
      "cell_type": "code",
      "execution_count": 10,
      "metadata": {
        "id": "JbIF6vghSDFp",
        "colab": {
          "base_uri": "https://localhost:8080/",
          "height": 373
        },
        "outputId": "038251e7-d3f0-44bf-e2e8-6b8ecbb4d98a"
      },
      "outputs": [
        {
          "output_type": "error",
          "ename": "KeyboardInterrupt",
          "evalue": "ignored",
          "traceback": [
            "\u001b[0;31m---------------------------------------------------------------------------\u001b[0m",
            "\u001b[0;31mKeyboardInterrupt\u001b[0m                         Traceback (most recent call last)",
            "\u001b[0;32m<ipython-input-10-04362575d577>\u001b[0m in \u001b[0;36m<cell line: 11>\u001b[0;34m()\u001b[0m\n\u001b[1;32m      9\u001b[0m     \u001b[0mmax_features\u001b[0m\u001b[0;34m=\u001b[0m\u001b[0;36m5000\u001b[0m\u001b[0;34m\u001b[0m\u001b[0;34m\u001b[0m\u001b[0m\n\u001b[1;32m     10\u001b[0m )\n\u001b[0;32m---> 11\u001b[0;31m \u001b[0mX_train_tfidf\u001b[0m \u001b[0;34m=\u001b[0m \u001b[0mvectorizer\u001b[0m\u001b[0;34m.\u001b[0m\u001b[0mfit_transform\u001b[0m\u001b[0;34m(\u001b[0m\u001b[0mX_train\u001b[0m\u001b[0;34m)\u001b[0m\u001b[0;34m\u001b[0m\u001b[0;34m\u001b[0m\u001b[0m\n\u001b[0m\u001b[1;32m     12\u001b[0m \u001b[0mX_test_tfidf\u001b[0m \u001b[0;34m=\u001b[0m \u001b[0mvectorizer\u001b[0m\u001b[0;34m.\u001b[0m\u001b[0mtransform\u001b[0m\u001b[0;34m(\u001b[0m\u001b[0mX_test\u001b[0m\u001b[0;34m)\u001b[0m\u001b[0;34m\u001b[0m\u001b[0;34m\u001b[0m\u001b[0m\n",
            "\u001b[0;32m/usr/local/lib/python3.10/dist-packages/sklearn/feature_extraction/text.py\u001b[0m in \u001b[0;36mfit_transform\u001b[0;34m(self, raw_documents, y)\u001b[0m\n\u001b[1;32m   2131\u001b[0m             \u001b[0msublinear_tf\u001b[0m\u001b[0;34m=\u001b[0m\u001b[0mself\u001b[0m\u001b[0;34m.\u001b[0m\u001b[0msublinear_tf\u001b[0m\u001b[0;34m,\u001b[0m\u001b[0;34m\u001b[0m\u001b[0;34m\u001b[0m\u001b[0m\n\u001b[1;32m   2132\u001b[0m         )\n\u001b[0;32m-> 2133\u001b[0;31m         \u001b[0mX\u001b[0m \u001b[0;34m=\u001b[0m \u001b[0msuper\u001b[0m\u001b[0;34m(\u001b[0m\u001b[0;34m)\u001b[0m\u001b[0;34m.\u001b[0m\u001b[0mfit_transform\u001b[0m\u001b[0;34m(\u001b[0m\u001b[0mraw_documents\u001b[0m\u001b[0;34m)\u001b[0m\u001b[0;34m\u001b[0m\u001b[0;34m\u001b[0m\u001b[0m\n\u001b[0m\u001b[1;32m   2134\u001b[0m         \u001b[0mself\u001b[0m\u001b[0;34m.\u001b[0m\u001b[0m_tfidf\u001b[0m\u001b[0;34m.\u001b[0m\u001b[0mfit\u001b[0m\u001b[0;34m(\u001b[0m\u001b[0mX\u001b[0m\u001b[0;34m)\u001b[0m\u001b[0;34m\u001b[0m\u001b[0;34m\u001b[0m\u001b[0m\n\u001b[1;32m   2135\u001b[0m         \u001b[0;31m# X is already a transformed view of raw_documents so\u001b[0m\u001b[0;34m\u001b[0m\u001b[0;34m\u001b[0m\u001b[0m\n",
            "\u001b[0;32m/usr/local/lib/python3.10/dist-packages/sklearn/feature_extraction/text.py\u001b[0m in \u001b[0;36mfit_transform\u001b[0;34m(self, raw_documents, y)\u001b[0m\n\u001b[1;32m   1386\u001b[0m                     \u001b[0;32mbreak\u001b[0m\u001b[0;34m\u001b[0m\u001b[0;34m\u001b[0m\u001b[0m\n\u001b[1;32m   1387\u001b[0m \u001b[0;34m\u001b[0m\u001b[0m\n\u001b[0;32m-> 1388\u001b[0;31m         \u001b[0mvocabulary\u001b[0m\u001b[0;34m,\u001b[0m \u001b[0mX\u001b[0m \u001b[0;34m=\u001b[0m \u001b[0mself\u001b[0m\u001b[0;34m.\u001b[0m\u001b[0m_count_vocab\u001b[0m\u001b[0;34m(\u001b[0m\u001b[0mraw_documents\u001b[0m\u001b[0;34m,\u001b[0m \u001b[0mself\u001b[0m\u001b[0;34m.\u001b[0m\u001b[0mfixed_vocabulary_\u001b[0m\u001b[0;34m)\u001b[0m\u001b[0;34m\u001b[0m\u001b[0;34m\u001b[0m\u001b[0m\n\u001b[0m\u001b[1;32m   1389\u001b[0m \u001b[0;34m\u001b[0m\u001b[0m\n\u001b[1;32m   1390\u001b[0m         \u001b[0;32mif\u001b[0m \u001b[0mself\u001b[0m\u001b[0;34m.\u001b[0m\u001b[0mbinary\u001b[0m\u001b[0;34m:\u001b[0m\u001b[0;34m\u001b[0m\u001b[0;34m\u001b[0m\u001b[0m\n",
            "\u001b[0;32m/usr/local/lib/python3.10/dist-packages/sklearn/feature_extraction/text.py\u001b[0m in \u001b[0;36m_count_vocab\u001b[0;34m(self, raw_documents, fixed_vocab)\u001b[0m\n\u001b[1;32m      1\u001b[0m \u001b[0;31m# Authors: Olivier Grisel <olivier.grisel@ensta.org>\u001b[0m\u001b[0;34m\u001b[0m\u001b[0;34m\u001b[0m\u001b[0m\n\u001b[1;32m      2\u001b[0m \u001b[0;31m#          Mathieu Blondel <mathieu@mblondel.org>\u001b[0m\u001b[0;34m\u001b[0m\u001b[0;34m\u001b[0m\u001b[0m\n\u001b[1;32m      3\u001b[0m \u001b[0;31m#          Lars Buitinck\u001b[0m\u001b[0;34m\u001b[0m\u001b[0;34m\u001b[0m\u001b[0m\n\u001b[1;32m      4\u001b[0m \u001b[0;31m#          Robert Layton <robertlayton@gmail.com>\u001b[0m\u001b[0;34m\u001b[0m\u001b[0;34m\u001b[0m\u001b[0m\n\u001b[1;32m      5\u001b[0m \u001b[0;31m#          Jochen Wersdörfer <jochen@wersdoerfer.de>\u001b[0m\u001b[0;34m\u001b[0m\u001b[0;34m\u001b[0m\u001b[0m\n",
            "\u001b[0;31mKeyboardInterrupt\u001b[0m: "
          ]
        }
      ],
      "source": [
        "\n",
        "X_train, X_test, y_train, y_test = train_test_split(df_resampled['review_text'], df_resampled['rating'], test_size=0.2, random_state=42)\n",
        "\n",
        "\n",
        "vectorizer = TfidfVectorizer(\n",
        "    stop_words=stopwords.words('english'),\n",
        "    max_df=0.8,\n",
        "    min_df=5,\n",
        "    ngram_range=(1, 2),\n",
        "    max_features=5000\n",
        ")\n",
        "X_train_tfidf = vectorizer.fit_transform(X_train)\n",
        "X_test_tfidf = vectorizer.transform(X_test)"
      ]
    },
    {
      "cell_type": "code",
      "execution_count": 34,
      "metadata": {
        "colab": {
          "base_uri": "https://localhost:8080/"
        },
        "id": "wLlz0kKBcpXZ",
        "outputId": "e0c8b71a-15c6-4357-d631-a56e3af55b6e"
      },
      "outputs": [
        {
          "output_type": "execute_result",
          "data": {
            "text/plain": [
              "922240"
            ]
          },
          "metadata": {},
          "execution_count": 34
        }
      ],
      "source": [
        "X_train_tfidf.shape[0]"
      ]
    },
    {
      "cell_type": "code",
      "execution_count": 35,
      "metadata": {
        "id": "k48M8iKkSVi5"
      },
      "outputs": [],
      "source": [
        "y_train = y_train.astype(int)\n",
        "y_test = y_test.astype(int)"
      ]
    },
    {
      "cell_type": "code",
      "source": [
        "y_test.shape"
      ],
      "metadata": {
        "colab": {
          "base_uri": "https://localhost:8080/"
        },
        "id": "rC4GNQGn63SJ",
        "outputId": "83230591-a188-469a-abab-3f375dd2f7a1"
      },
      "execution_count": 36,
      "outputs": [
        {
          "output_type": "execute_result",
          "data": {
            "text/plain": [
              "(395246,)"
            ]
          },
          "metadata": {},
          "execution_count": 36
        }
      ]
    },
    {
      "cell_type": "code",
      "source": [
        "X_test_tfidf.shape\n"
      ],
      "metadata": {
        "colab": {
          "base_uri": "https://localhost:8080/"
        },
        "id": "VAEYuAwiGHKF",
        "outputId": "a913289a-f9fa-44a3-e678-38b5bfca0bac"
      },
      "execution_count": 8,
      "outputs": [
        {
          "output_type": "execute_result",
          "data": {
            "text/plain": [
              "(395246, 5000)"
            ]
          },
          "metadata": {},
          "execution_count": 8
        }
      ]
    },
    {
      "cell_type": "markdown",
      "metadata": {
        "id": "S-AQO-wQZ59r"
      },
      "source": [
        "# Machine Learning"
      ]
    },
    {
      "cell_type": "markdown",
      "source": [
        "Now that we are done with the preprocessing and have extracted features using TF-IDF we apply various Machine Learning models for classification on our data.\n",
        "\n",
        "Models Used:\n",
        "\n",
        "1. Logistic Regression:\n",
        "\n",
        "    1. max-iter=100\n",
        "    2. max-iter=100, solver=lbfgs\n",
        "    3. max-iter=200, solver=lbfgs\n",
        "    4. max-iter=100, solver=newton-cg\n",
        "    5. max-iter=100, solver=newton-cg, c=1.0\n",
        "\n",
        "2. LinearSVC\n",
        "3. SVM (rbf kernel)\n",
        "\n",
        "Achieved the best results with the newton-cg solver"
      ],
      "metadata": {
        "id": "IYZuvUxpWFG-"
      }
    },
    {
      "cell_type": "code",
      "execution_count": 38,
      "metadata": {
        "colab": {
          "base_uri": "https://localhost:8080/"
        },
        "id": "7n0JTuOGSZ5c",
        "outputId": "bb31e196-b7dd-4f0c-82d1-69b7b68d82ff"
      },
      "outputs": [
        {
          "output_type": "stream",
          "name": "stdout",
          "text": [
            "Accuracy on the test set: 0.5296929001179013\n"
          ]
        }
      ],
      "source": [
        "\n",
        "# Create and train the logistic regression model\n",
        "logreg_model = LogisticRegression(max_iter=100, solver='newton-cg', C=1.0)\n",
        "logreg_model.fit(X_train_tfidf , y_train)\n",
        "\n",
        "\n",
        "y_pred = logreg_model.predict(X_test_tfidf)\n",
        "\n",
        "\n",
        "y_pred = y_pred.astype(int)\n",
        "\n",
        "accuracy = accuracy_score(y_test, y_pred)\n",
        "print(f\"Accuracy on the test set: {accuracy}\")"
      ]
    },
    {
      "cell_type": "code",
      "source": [
        "# Import necessary libraries\n",
        "from sklearn.model_selection import train_test_split\n",
        "from sklearn.feature_extraction.text import TfidfVectorizer\n",
        "from sklearn.naive_bayes import MultinomialNB\n",
        "from sklearn.metrics import classification_report, accuracy_score\n",
        "\n",
        "# Initialize a Multinomial Naive Bayes classifier\n",
        "nb_classifier = MultinomialNB()\n",
        "\n",
        "# Train the classifier\n",
        "nb_classifier.fit(X_train_tfidf, y_train)\n",
        "\n",
        "# Make predictions on the test set\n",
        "y_pred = nb_classifier.predict(X_test_tfidf)\n",
        "\n",
        "# Evaluate the model\n",
        "accuracy = accuracy_score(y_test, y_pred)\n",
        "print(f\"Accuracy: {accuracy:.2f}\")\n",
        "\n",
        "# Print classification report\n",
        "print(\"Classification Report:\\n\", classification_report(y_test, y_pred))\n"
      ],
      "metadata": {
        "colab": {
          "base_uri": "https://localhost:8080/"
        },
        "id": "lo3VfnmaOIh2",
        "outputId": "8d816828-3f51-42c4-8ed0-2000315848af"
      },
      "execution_count": 39,
      "outputs": [
        {
          "output_type": "stream",
          "name": "stdout",
          "text": [
            "Accuracy: 0.49\n",
            "Classification Report:\n",
            "               precision    recall  f1-score   support\n",
            "\n",
            "           0       0.55      0.49      0.52     65881\n",
            "           1       0.55      0.60      0.58     65975\n",
            "           2       0.45      0.43      0.44     65920\n",
            "           3       0.42      0.40      0.41     65898\n",
            "           4       0.40      0.40      0.40     65876\n",
            "           5       0.54      0.60      0.57     65696\n",
            "\n",
            "    accuracy                           0.49    395246\n",
            "   macro avg       0.48      0.49      0.48    395246\n",
            "weighted avg       0.48      0.49      0.48    395246\n",
            "\n"
          ]
        }
      ]
    },
    {
      "cell_type": "code",
      "source": [
        "\n",
        "model = LinearSVC()\n",
        "\n",
        "# Train the model on the training data\n",
        "model.fit(X_train_tfidf, y_train)\n",
        "\n",
        "# Make predictions on the test data\n",
        "y_pred = model.predict(X_test_tfidf)\n",
        "\n",
        "# Evaluate the model\n",
        "accuracy = accuracy_score(y_test, y_pred)\n",
        "classification_rep = classification_report(y_test, y_pred)\n",
        "\n",
        "# Print the results\n",
        "print(f\"Accuracy: {accuracy}\")\n",
        "print(\"Classification Report:\")\n",
        "print(classification_rep)\n"
      ],
      "metadata": {
        "colab": {
          "base_uri": "https://localhost:8080/"
        },
        "id": "jXNGNxnyif6J",
        "outputId": "4b451e09-9c5a-49c4-a2dc-10bca70cecf7"
      },
      "execution_count": null,
      "outputs": [
        {
          "output_type": "stream",
          "name": "stdout",
          "text": [
            "Accuracy: 0.5253018998246666\n",
            "Classification Report:\n",
            "              precision    recall  f1-score   support\n",
            "\n",
            "           0       0.56      0.62      0.59     44024\n",
            "           1       0.57      0.69      0.63     43892\n",
            "           2       0.50      0.42      0.46     43854\n",
            "           3       0.47      0.39      0.43     44004\n",
            "           4       0.45      0.34      0.39     43904\n",
            "           5       0.56      0.68      0.61     43820\n",
            "\n",
            "    accuracy                           0.53    263498\n",
            "   macro avg       0.52      0.53      0.52    263498\n",
            "weighted avg       0.52      0.53      0.52    263498\n",
            "\n"
          ]
        }
      ]
    },
    {
      "cell_type": "code",
      "source": [
        "X_test_tfidf.shape\n"
      ],
      "metadata": {
        "colab": {
          "base_uri": "https://localhost:8080/"
        },
        "id": "adU2w_P3V-tv",
        "outputId": "98b4faa0-6e4a-45c6-af67-edf3dca5f756"
      },
      "execution_count": 49,
      "outputs": [
        {
          "output_type": "execute_result",
          "data": {
            "text/plain": [
              "(270000, 5000)"
            ]
          },
          "metadata": {},
          "execution_count": 49
        }
      ]
    },
    {
      "cell_type": "code",
      "source": [
        "# Import necessary libraries\n",
        "from sklearn.model_selection import train_test_split\n",
        "from xgboost import XGBClassifier\n",
        "from sklearn.metrics import classification_report, accuracy_score\n",
        "\n",
        "\n",
        "# Initialize an XGBoost classifier\n",
        "xgb_classifier = XGBClassifier(learning_rate=0.1, n_estimators=100, max_depth=3, random_state=42)\n",
        "\n",
        "# Train the classifier\n",
        "xgb_classifier.fit(X_train_tfidf, y_train)\n",
        "\n",
        "# Make predictions on the test set\n",
        "y_pred = xgb_classifier.predict(X_test_tfidf)\n",
        "\n",
        "# Evaluate the model\n",
        "accuracy = accuracy_score(y_test, y_pred)\n",
        "print(f\"Accuracy: {accuracy:.2f}\")\n",
        "\n",
        "# Print classification report\n",
        "print(\"Classification Report:\\n\", classification_report(y_test, y_pred))\n"
      ],
      "metadata": {
        "colab": {
          "base_uri": "https://localhost:8080/"
        },
        "id": "Eb3b2i05O2i1",
        "outputId": "bfa77d3a-3471-4325-a5a2-f8eb2114cb02"
      },
      "execution_count": 9,
      "outputs": [
        {
          "output_type": "stream",
          "name": "stdout",
          "text": [
            "Accuracy: 0.43\n",
            "Classification Report:\n",
            "               precision    recall  f1-score   support\n",
            "\n",
            "           0       0.39      0.64      0.49     65881\n",
            "           1       0.51      0.45      0.48     65975\n",
            "           2       0.41      0.35      0.37     65920\n",
            "           3       0.38      0.34      0.36     65898\n",
            "           4       0.38      0.25      0.30     65876\n",
            "           5       0.49      0.53      0.51     65696\n",
            "\n",
            "    accuracy                           0.43    395246\n",
            "   macro avg       0.43      0.43      0.42    395246\n",
            "weighted avg       0.43      0.43      0.42    395246\n",
            "\n"
          ]
        }
      ]
    },
    {
      "cell_type": "markdown",
      "source": [
        "# **Confusion Matrix**\n",
        "\n",
        "The confusion matrix is shown below for the logistic regression model:"
      ],
      "metadata": {
        "id": "-fgHR5unXqK2"
      }
    },
    {
      "cell_type": "code",
      "source": [
        "\n",
        "cm = confusion_matrix(y_test, y_pred)\n",
        "print(\"Confusion matrix: \")\n",
        "print(cm)\n",
        "\n"
      ],
      "metadata": {
        "colab": {
          "base_uri": "https://localhost:8080/"
        },
        "id": "kXsugNmC6en-",
        "outputId": "3a4c4425-5841-4969-c961-ecb4bb0a8500"
      },
      "execution_count": 45,
      "outputs": [
        {
          "output_type": "stream",
          "name": "stdout",
          "text": [
            "Confusion matrix: \n",
            "[[31997  9641  4774  4532  5993  8944]\n",
            " [ 6959 39734 13198  2997  1253  1834]\n",
            " [ 5103 14463 28041 12553  3714  2046]\n",
            " [ 4575  4145 12289 26625 13609  4655]\n",
            " [ 4671  2176  3100 13655 26313 15961]\n",
            " [ 4796  1898  1222  3400 14902 39478]]\n"
          ]
        }
      ]
    },
    {
      "cell_type": "code",
      "source": [
        "\n",
        "labels = ['0', '1', '2','3','4','5']\n",
        "fig = plt.figure()\n",
        "ax = fig.add_subplot(111)\n",
        "cax = ax.matshow(cm)\n",
        "tick_marks = np.arange(cm.shape[1])\n",
        "plt.title('Confusion matrix ')\n",
        "fig.colorbar(cax)\n",
        "ax.set_xticklabels([''] + labels)\n",
        "ax.set_yticklabels([''] + labels)\n",
        "plt.xlabel('Predicted')\n",
        "plt.ylabel('Actual')\n",
        "for i, j in itertools.product(range(cm.shape[0]), range(cm.shape[0])):\n",
        "    plt.text(j, i, cm[i, j], horizontalalignment=\"center\", )\n",
        "plt.show()"
      ],
      "metadata": {
        "colab": {
          "base_uri": "https://localhost:8080/",
          "height": 546
        },
        "id": "hwsak1IDJaO8",
        "outputId": "177d621d-c1a6-459e-fdb3-7e143bb15edc"
      },
      "execution_count": 46,
      "outputs": [
        {
          "output_type": "stream",
          "name": "stderr",
          "text": [
            "<ipython-input-46-8540bdacc9f6>:8: UserWarning: FixedFormatter should only be used together with FixedLocator\n",
            "  ax.set_xticklabels([''] + labels)\n",
            "<ipython-input-46-8540bdacc9f6>:9: UserWarning: FixedFormatter should only be used together with FixedLocator\n",
            "  ax.set_yticklabels([''] + labels)\n"
          ]
        },
        {
          "output_type": "display_data",
          "data": {
            "text/plain": [
              "<Figure size 640x480 with 2 Axes>"
            ],
            "image/png": "[encoded data removed]"
          },
          "metadata": {}
        }
      ]
    },
    {
      "cell_type": "code",
      "execution_count": null,
      "metadata": {
        "id": "YqcpPldgk24K"
      },
      "outputs": [],
      "source": [
        "# df.to_csv('/content/drive/MyDrive/ML IIITB/preprocessed_data1.csv', index=False)"
      ]
    },
    {
      "cell_type": "code",
      "source": [],
      "metadata": {
        "id": "7zyDxTze-aua"
      },
      "execution_count": null,
      "outputs": []
    },
    {
      "cell_type": "code",
      "source": [
        "\n",
        "\n",
        "# Define a range of C values to explore\n",
        "param_grid = {'C': [0.001, 0.01, 0.1, 1, 10, 100]}\n",
        "\n",
        "# Perform a grid search with cross-validation\n",
        "grid_search = GridSearchCV(LinearSVC(), param_grid, cv=5)\n",
        "grid_search.fit(X_train_tfidf, y_train)\n",
        "\n",
        "# Get the best parameter value\n",
        "best_C = grid_search.best_params_['C']\n",
        "print(f\"Best value for C: {best_C}\")\n",
        "\n",
        "# Use the best model for predictions\n",
        "best_model = grid_search.best_estimator_\n",
        "y_pred_best = best_model.predict(X_test_tfidf)\n",
        "\n",
        "# Evaluate the best model\n",
        "best_accuracy = accuracy_score(y_test, y_pred_best)\n",
        "best_classification_rep = classification_report(y_test, y_pred_best)\n",
        "\n",
        "# Print the results for the best model\n",
        "print(f\"Best Accuracy: {best_accuracy}\")\n",
        "print(\"Best Classification Report:\")\n",
        "print(best_classification_rep)\n"
      ],
      "metadata": {
        "id": "k__UQb8Kvv2g"
      },
      "execution_count": null,
      "outputs": []
    },
    {
      "cell_type": "code",
      "source": [
        "\n",
        "svm_model = SVC(kernel='rbf', C=1.0, random_state=42)\n",
        "\n",
        "# Train the SVM model\n",
        "svm_model.fit(X_train_tfidf, y_train)\n",
        "\n",
        "# Predictions on the validation set\n",
        "val_predictions = svm_model.predict(X_test_tfidf)\n",
        "accuracy = accuracy_score(y_test, val_predictions)\n",
        "print(f\"Accuracy on the test set: {accuracy}\")"
      ],
      "metadata": {
        "id": "4HhrFHBrdsL2"
      },
      "execution_count": null,
      "outputs": []
    },
    {
      "cell_type": "markdown",
      "source": [
        "Loading the test.csv file and performing the same preprocessing techniques as used on the training data\n"
      ],
      "metadata": {
        "id": "a7Q2mE1jX7__"
      }
    },
    {
      "cell_type": "code",
      "execution_count": 40,
      "metadata": {
        "colab": {
          "base_uri": "https://localhost:8080/",
          "height": 379
        },
        "id": "dzsbFqKrpac3",
        "outputId": "9d02e68b-c902-404f-a1f7-a0d6bcfb8b3b"
      },
      "outputs": [
        {
          "output_type": "execute_result",
          "data": {
            "text/plain": [
              "                            user_id   book_id  \\\n",
              "0  5f2ab1bb7faf49eee463cc95f9b7b359   8306857   \n",
              "1  f7c07b030097a56de573b4e305264631  11735983   \n",
              "2  22e6aa6cb4425438f32a49c7cbcb070a  22928964   \n",
              "3  353521b7d7f0772699df2a0e1d7b85d2   6597651   \n",
              "4  1cb74e81643ae2af8d7900c6802cde4d  10866624   \n",
              "\n",
              "                          review_id  \\\n",
              "0  a3286ad450d4b346ef8c0e4b264c5c1a   \n",
              "1  94a41ad0c55523947b53b9fa4c607e0c   \n",
              "2  0d8a96bbf96cf08d399234145f68c04c   \n",
              "3  d8a1206d0f6cbebd581b21d4b4aab452   \n",
              "4  ef216c7548ea239f82f966d1e7aa79e2   \n",
              "\n",
              "                                         review_text  \\\n",
              "0  I honestly wasn't expecting much from this boo...   \n",
              "1  I really enjoyed this book. It was well writte...   \n",
              "2  I am so thrilled to be finally reading this bo...   \n",
              "3  The premise of this book was right up my alley...   \n",
              "4  So, I am a fan of genre-y novels, and as such ...   \n",
              "\n",
              "                       date_added                    date_updated  \\\n",
              "0  Tue May 15 10:36:28 -0700 2012  Sat May 28 10:19:40 -0700 2016   \n",
              "1  Sat Jul 06 07:04:14 -0700 2013  Wed Jul 24 14:25:44 -0700 2013   \n",
              "2  Sat Nov 01 06:22:23 -0700 2014  Thu Nov 10 10:01:13 -0800 2016   \n",
              "3  Mon May 09 15:09:59 -0700 2011  Fri Jul 08 15:21:09 -0700 2011   \n",
              "4  Mon Oct 01 07:02:33 -0700 2012  Wed Oct 03 09:48:25 -0700 2012   \n",
              "\n",
              "                          read_at                      started_at  n_votes  \\\n",
              "0  Wed May 16 00:00:00 -0700 2012  Tue May 15 00:00:00 -0700 2012        0   \n",
              "1  Wed Jul 24 14:25:44 -0700 2013  Sat Jul 06 00:00:00 -0700 2013        0   \n",
              "2  Mon Jun 01 00:00:00 -0700 2015  Thu May 28 00:00:00 -0700 2015       38   \n",
              "3  Tue Mar 01 00:00:00 -0800 2011                             NaN        0   \n",
              "4  Mon Oct 01 00:00:00 -0700 2012  Mon Oct 01 00:00:00 -0700 2012        1   \n",
              "\n",
              "   n_comments  \n",
              "0           0  \n",
              "1           0  \n",
              "2           6  \n",
              "3           0  \n",
              "4           0  "
            ],
            "text/html": [
              "\n",
              "  <div id=\"df-f08b7533-7637-4817-bb8a-db29165f96fb\" class=\"colab-df-container\">\n",
              "    <div>\n",
              "<style scoped>\n",
              "    .dataframe tbody tr th:only-of-type {\n",
              "        vertical-align: middle;\n",
              "    }\n",
              "\n",
              "    .dataframe tbody tr th {\n",
              "        vertical-align: top;\n",
              "    }\n",
              "\n",
              "    .dataframe thead th {\n",
              "        text-align: right;\n",
              "    }\n",
              "</style>\n",
              "<table border=\"1\" class=\"dataframe\">\n",
              "  <thead>\n",
              "    <tr style=\"text-align: right;\">\n",
              "      <th></th>\n",
              "      <th>user_id</th>\n",
              "      <th>book_id</th>\n",
              "      <th>review_id</th>\n",
              "      <th>review_text</th>\n",
              "      <th>date_added</th>\n",
              "      <th>date_updated</th>\n",
              "      <th>read_at</th>\n",
              "      <th>started_at</th>\n",
              "      <th>n_votes</th>\n",
              "      <th>n_comments</th>\n",
              "    </tr>\n",
              "  </thead>\n",
              "  <tbody>\n",
              "    <tr>\n",
              "      <th>0</th>\n",
              "      <td>5f2ab1bb7faf49eee463cc95f9b7b359</td>\n",
              "      <td>8306857</td>\n",
              "      <td>a3286ad450d4b346ef8c0e4b264c5c1a</td>\n",
              "      <td>I honestly wasn't expecting much from this boo...</td>\n",
              "      <td>Tue May 15 10:36:28 -0700 2012</td>\n",
              "      <td>Sat May 28 10:19:40 -0700 2016</td>\n",
              "      <td>Wed May 16 00:00:00 -0700 2012</td>\n",
              "      <td>Tue May 15 00:00:00 -0700 2012</td>\n",
              "      <td>0</td>\n",
              "      <td>0</td>\n",
              "    </tr>\n",
              "    <tr>\n",
              "      <th>1</th>\n",
              "      <td>f7c07b030097a56de573b4e305264631</td>\n",
              "      <td>11735983</td>\n",
              "      <td>94a41ad0c55523947b53b9fa4c607e0c</td>\n",
              "      <td>I really enjoyed this book. It was well writte...</td>\n",
              "      <td>Sat Jul 06 07:04:14 -0700 2013</td>\n",
              "      <td>Wed Jul 24 14:25:44 -0700 2013</td>\n",
              "      <td>Wed Jul 24 14:25:44 -0700 2013</td>\n",
              "      <td>Sat Jul 06 00:00:00 -0700 2013</td>\n",
              "      <td>0</td>\n",
              "      <td>0</td>\n",
              "    </tr>\n",
              "    <tr>\n",
              "      <th>2</th>\n",
              "      <td>22e6aa6cb4425438f32a49c7cbcb070a</td>\n",
              "      <td>22928964</td>\n",
              "      <td>0d8a96bbf96cf08d399234145f68c04c</td>\n",
              "      <td>I am so thrilled to be finally reading this bo...</td>\n",
              "      <td>Sat Nov 01 06:22:23 -0700 2014</td>\n",
              "      <td>Thu Nov 10 10:01:13 -0800 2016</td>\n",
              "      <td>Mon Jun 01 00:00:00 -0700 2015</td>\n",
              "      <td>Thu May 28 00:00:00 -0700 2015</td>\n",
              "      <td>38</td>\n",
              "      <td>6</td>\n",
              "    </tr>\n",
              "    <tr>\n",
              "      <th>3</th>\n",
              "      <td>353521b7d7f0772699df2a0e1d7b85d2</td>\n",
              "      <td>6597651</td>\n",
              "      <td>d8a1206d0f6cbebd581b21d4b4aab452</td>\n",
              "      <td>The premise of this book was right up my alley...</td>\n",
              "      <td>Mon May 09 15:09:59 -0700 2011</td>\n",
              "      <td>Fri Jul 08 15:21:09 -0700 2011</td>\n",
              "      <td>Tue Mar 01 00:00:00 -0800 2011</td>\n",
              "      <td>NaN</td>\n",
              "      <td>0</td>\n",
              "      <td>0</td>\n",
              "    </tr>\n",
              "    <tr>\n",
              "      <th>4</th>\n",
              "      <td>1cb74e81643ae2af8d7900c6802cde4d</td>\n",
              "      <td>10866624</td>\n",
              "      <td>ef216c7548ea239f82f966d1e7aa79e2</td>\n",
              "      <td>So, I am a fan of genre-y novels, and as such ...</td>\n",
              "      <td>Mon Oct 01 07:02:33 -0700 2012</td>\n",
              "      <td>Wed Oct 03 09:48:25 -0700 2012</td>\n",
              "      <td>Mon Oct 01 00:00:00 -0700 2012</td>\n",
              "      <td>Mon Oct 01 00:00:00 -0700 2012</td>\n",
              "      <td>1</td>\n",
              "      <td>0</td>\n",
              "    </tr>\n",
              "  </tbody>\n",
              "</table>\n",
              "</div>\n",
              "    <div class=\"colab-df-buttons\">\n",
              "\n",
              "  <div class=\"colab-df-container\">\n",
              "    <button class=\"colab-df-convert\" onclick=\"convertToInteractive('df-f08b7533-7637-4817-bb8a-db29165f96fb')\"\n",
              "            title=\"Convert this dataframe to an interactive table.\"\n",
              "            style=\"display:none;\">\n",
              "\n",
              "  <svg xmlns=\"http://www.w3.org/2000/svg\" height=\"24px\" viewBox=\"0 -960 960 960\">\n",
              "    <path d=\"M120-120v-720h720v720H120Zm60-500h600v-160H180v160Zm220 220h160v-160H400v160Zm0 220h160v-160H400v160ZM180-400h160v-160H180v160Zm440 0h160v-160H620v160ZM180-180h160v-160H180v160Zm440 0h160v-160H620v160Z\"/>\n",
              "  </svg>\n",
              "    </button>\n",
              "\n",
              "  <style>\n",
              "    .colab-df-container {\n",
              "      display:flex;\n",
              "      gap: 12px;\n",
              "    }\n",
              "\n",
              "    .colab-df-convert {\n",
              "      background-color: #E8F0FE;\n",
              "      border: none;\n",
              "      border-radius: 50%;\n",
              "      cursor: pointer;\n",
              "      display: none;\n",
              "      fill: #1967D2;\n",
              "      height: 32px;\n",
              "      padding: 0 0 0 0;\n",
              "      width: 32px;\n",
              "    }\n",
              "\n",
              "    .colab-df-convert:hover {\n",
              "      background-color: #E2EBFA;\n",
              "      box-shadow: 0px 1px 2px rgba(60, 64, 67, 0.3), 0px 1px 3px 1px rgba(60, 64, 67, 0.15);\n",
              "      fill: #174EA6;\n",
              "    }\n",
              "\n",
              "    .colab-df-buttons div {\n",
              "      margin-bottom: 4px;\n",
              "    }\n",
              "\n",
              "    [theme=dark] .colab-df-convert {\n",
              "      background-color: #3B4455;\n",
              "      fill: #D2E3FC;\n",
              "    }\n",
              "\n",
              "    [theme=dark] .colab-df-convert:hover {\n",
              "      background-color: #434B5C;\n",
              "      box-shadow: 0px 1px 3px 1px rgba(0, 0, 0, 0.15);\n",
              "      filter: drop-shadow(0px 1px 2px rgba(0, 0, 0, 0.3));\n",
              "      fill: #FFFFFF;\n",
              "    }\n",
              "  </style>\n",
              "\n",
              "    <script>\n",
              "      const buttonEl =\n",
              "        document.querySelector('#df-f08b7533-7637-4817-bb8a-db29165f96fb button.colab-df-convert');\n",
              "      buttonEl.style.display =\n",
              "        google.colab.kernel.accessAllowed ? 'block' : 'none';\n",
              "\n",
              "      async function convertToInteractive(key) {\n",
              "        const element = document.querySelector('#df-f08b7533-7637-4817-bb8a-db29165f96fb');\n",
              "        const dataTable =\n",
              "          await google.colab.kernel.invokeFunction('convertToInteractive',\n",
              "                                                    [key], {});\n",
              "        if (!dataTable) return;\n",
              "\n",
              "        const docLinkHtml = 'Like what you see? Visit the ' +\n",
              "          '<a target=\"_blank\" href=https://colab.research.google.com/notebooks/data_table.ipynb>data table notebook</a>'\n",
              "          + ' to learn more about interactive tables.';\n",
              "        element.innerHTML = '';\n",
              "        dataTable['output_type'] = 'display_data';\n",
              "        await google.colab.output.renderOutput(dataTable, element);\n",
              "        const docLink = document.createElement('div');\n",
              "        docLink.innerHTML = docLinkHtml;\n",
              "        element.appendChild(docLink);\n",
              "      }\n",
              "    </script>\n",
              "  </div>\n",
              "\n",
              "\n",
              "<div id=\"df-25d72a48-f885-4dac-85ea-f38b18331b82\">\n",
              "  <button class=\"colab-df-quickchart\" onclick=\"quickchart('df-25d72a48-f885-4dac-85ea-f38b18331b82')\"\n",
              "            title=\"Suggest charts\"\n",
              "            style=\"display:none;\">\n",
              "\n",
              "<svg xmlns=\"http://www.w3.org/2000/svg\" height=\"24px\"viewBox=\"0 0 24 24\"\n",
              "     width=\"24px\">\n",
              "    <g>\n",
              "        <path d=\"M19 3H5c-1.1 0-2 .9-2 2v14c0 1.1.9 2 2 2h14c1.1 0 2-.9 2-2V5c0-1.1-.9-2-2-2zM9 17H7v-7h2v7zm4 0h-2V7h2v10zm4 0h-2v-4h2v4z\"/>\n",
              "    </g>\n",
              "</svg>\n",
              "  </button>\n",
              "\n",
              "<style>\n",
              "  .colab-df-quickchart {\n",
              "      --bg-color: #E8F0FE;\n",
              "      --fill-color: #1967D2;\n",
              "      --hover-bg-color: #E2EBFA;\n",
              "      --hover-fill-color: #174EA6;\n",
              "      --disabled-fill-color: #AAA;\n",
              "      --disabled-bg-color: #DDD;\n",
              "  }\n",
              "\n",
              "  [theme=dark] .colab-df-quickchart {\n",
              "      --bg-color: #3B4455;\n",
              "      --fill-color: #D2E3FC;\n",
              "      --hover-bg-color: #434B5C;\n",
              "      --hover-fill-color: #FFFFFF;\n",
              "      --disabled-bg-color: #3B4455;\n",
              "      --disabled-fill-color: #666;\n",
              "  }\n",
              "\n",
              "  .colab-df-quickchart {\n",
              "    background-color: var(--bg-color);\n",
              "    border: none;\n",
              "    border-radius: 50%;\n",
              "    cursor: pointer;\n",
              "    display: none;\n",
              "    fill: var(--fill-color);\n",
              "    height: 32px;\n",
              "    padding: 0;\n",
              "    width: 32px;\n",
              "  }\n",
              "\n",
              "  .colab-df-quickchart:hover {\n",
              "    background-color: var(--hover-bg-color);\n",
              "    box-shadow: 0 1px 2px rgba(60, 64, 67, 0.3), 0 1px 3px 1px rgba(60, 64, 67, 0.15);\n",
              "    fill: var(--button-hover-fill-color);\n",
              "  }\n",
              "\n",
              "  .colab-df-quickchart-complete:disabled,\n",
              "  .colab-df-quickchart-complete:disabled:hover {\n",
              "    background-color: var(--disabled-bg-color);\n",
              "    fill: var(--disabled-fill-color);\n",
              "    box-shadow: none;\n",
              "  }\n",
              "\n",
              "  .colab-df-spinner {\n",
              "    border: 2px solid var(--fill-color);\n",
              "    border-color: transparent;\n",
              "    border-bottom-color: var(--fill-color);\n",
              "    animation:\n",
              "      spin 1s steps(1) infinite;\n",
              "  }\n",
              "\n",
              "  @keyframes spin {\n",
              "    0% {\n",
              "      border-color: transparent;\n",
              "      border-bottom-color: var(--fill-color);\n",
              "      border-left-color: var(--fill-color);\n",
              "    }\n",
              "    20% {\n",
              "      border-color: transparent;\n",
              "      border-left-color: var(--fill-color);\n",
              "      border-top-color: var(--fill-color);\n",
              "    }\n",
              "    30% {\n",
              "      border-color: transparent;\n",
              "      border-left-color: var(--fill-color);\n",
              "      border-top-color: var(--fill-color);\n",
              "      border-right-color: var(--fill-color);\n",
              "    }\n",
              "    40% {\n",
              "      border-color: transparent;\n",
              "      border-right-color: var(--fill-color);\n",
              "      border-top-color: var(--fill-color);\n",
              "    }\n",
              "    60% {\n",
              "      border-color: transparent;\n",
              "      border-right-color: var(--fill-color);\n",
              "    }\n",
              "    80% {\n",
              "      border-color: transparent;\n",
              "      border-right-color: var(--fill-color);\n",
              "      border-bottom-color: var(--fill-color);\n",
              "    }\n",
              "    90% {\n",
              "      border-color: transparent;\n",
              "      border-bottom-color: var(--fill-color);\n",
              "    }\n",
              "  }\n",
              "</style>\n",
              "\n",
              "  <script>\n",
              "    async function quickchart(key) {\n",
              "      const quickchartButtonEl =\n",
              "        document.querySelector('#' + key + ' button');\n",
              "      quickchartButtonEl.disabled = true;  // To prevent multiple clicks.\n",
              "      quickchartButtonEl.classList.add('colab-df-spinner');\n",
              "      try {\n",
              "        const charts = await google.colab.kernel.invokeFunction(\n",
              "            'suggestCharts', [key], {});\n",
              "      } catch (error) {\n",
              "        console.error('Error during call to suggestCharts:', error);\n",
              "      }\n",
              "      quickchartButtonEl.classList.remove('colab-df-spinner');\n",
              "      quickchartButtonEl.classList.add('colab-df-quickchart-complete');\n",
              "    }\n",
              "    (() => {\n",
              "      let quickchartButtonEl =\n",
              "        document.querySelector('#df-25d72a48-f885-4dac-85ea-f38b18331b82 button');\n",
              "      quickchartButtonEl.style.display =\n",
              "        google.colab.kernel.accessAllowed ? 'block' : 'none';\n",
              "    })();\n",
              "  </script>\n",
              "</div>\n",
              "\n",
              "    </div>\n",
              "  </div>\n"
            ]
          },
          "metadata": {},
          "execution_count": 40
        }
      ],
      "source": [
        "test_df = pd.read_csv('/content/drive/MyDrive/test.csv')\n",
        "test_df = test_df.dropna(subset=['review_text'])\n",
        "test_df.head()"
      ]
    },
    {
      "cell_type": "code",
      "execution_count": null,
      "metadata": {
        "colab": {
          "base_uri": "https://localhost:8080/"
        },
        "id": "Yb59WMHz9KrK",
        "outputId": "fb55c1fd-a056-4f8b-fb76-2415fa2fae35"
      },
      "outputs": [
        {
          "output_type": "stream",
          "name": "stdout",
          "text": [
            "<class 'pandas.core.frame.DataFrame'>\n",
            "RangeIndex: 270000 entries, 0 to 269999\n",
            "Data columns (total 10 columns):\n",
            " #   Column        Non-Null Count   Dtype \n",
            "---  ------        --------------   ----- \n",
            " 0   user_id       270000 non-null  object\n",
            " 1   book_id       270000 non-null  int64 \n",
            " 2   review_id     270000 non-null  object\n",
            " 3   review_text   270000 non-null  object\n",
            " 4   date_added    270000 non-null  object\n",
            " 5   date_updated  270000 non-null  object\n",
            " 6   read_at       242459 non-null  object\n",
            " 7   started_at    187740 non-null  object\n",
            " 8   n_votes       270000 non-null  int64 \n",
            " 9   n_comments    270000 non-null  int64 \n",
            "dtypes: int64(3), object(7)\n",
            "memory usage: 20.6+ MB\n"
          ]
        }
      ],
      "source": [
        "test_df.info()"
      ]
    },
    {
      "cell_type": "code",
      "execution_count": 41,
      "metadata": {
        "colab": {
          "base_uri": "https://localhost:8080/"
        },
        "id": "VjdHS6xMpp4z",
        "outputId": "2e5774e0-27a5-41e2-8838-953d65116379"
      },
      "outputs": [
        {
          "output_type": "stream",
          "name": "stderr",
          "text": [
            "  0%|          | 27/270000 [00:00<17:09, 262.21it/s]<ipython-input-30-e6b1618c39da>:6: MarkupResemblesLocatorWarning: The input looks more like a filename than markup. You may want to open this file and pass the filehandle into Beautiful Soup.\n",
            "  text = BeautifulSoup(text, \"html.parser\").get_text()\n",
            "100%|██████████| 270000/270000 [07:32<00:00, 596.15it/s]\n"
          ]
        }
      ],
      "source": [
        "tqdm.pandas()\n",
        "test_df['review_text'] = test_df['review_text'].progress_apply(preprocess_text)"
      ]
    },
    {
      "cell_type": "code",
      "execution_count": null,
      "metadata": {
        "colab": {
          "base_uri": "https://localhost:8080/"
        },
        "id": "wAjssas49bor",
        "outputId": "2aec5a36-0d52-4c9b-8b60-f76721f568be"
      },
      "outputs": [
        {
          "output_type": "stream",
          "name": "stdout",
          "text": [
            "<class 'pandas.core.frame.DataFrame'>\n",
            "RangeIndex: 270000 entries, 0 to 269999\n",
            "Data columns (total 10 columns):\n",
            " #   Column        Non-Null Count   Dtype \n",
            "---  ------        --------------   ----- \n",
            " 0   user_id       270000 non-null  object\n",
            " 1   book_id       270000 non-null  int64 \n",
            " 2   review_id     270000 non-null  object\n",
            " 3   review_text   270000 non-null  object\n",
            " 4   date_added    270000 non-null  object\n",
            " 5   date_updated  270000 non-null  object\n",
            " 6   read_at       242459 non-null  object\n",
            " 7   started_at    187740 non-null  object\n",
            " 8   n_votes       270000 non-null  int64 \n",
            " 9   n_comments    270000 non-null  int64 \n",
            "dtypes: int64(3), object(7)\n",
            "memory usage: 20.6+ MB\n"
          ]
        }
      ],
      "source": [
        "test_df.info()"
      ]
    },
    {
      "cell_type": "markdown",
      "source": [
        "**Using the TF-IDF for testing data as well**\n"
      ],
      "metadata": {
        "id": "AtARFFUQYIiA"
      }
    },
    {
      "cell_type": "code",
      "execution_count": 42,
      "metadata": {
        "id": "4UiGf6XcKfyN"
      },
      "outputs": [],
      "source": [
        "X_test_tfidf = vectorizer.transform(test_df['review_text'])"
      ]
    },
    {
      "cell_type": "markdown",
      "source": [
        "**Creating the predictions for the test data for our model**"
      ],
      "metadata": {
        "id": "n02sExvyYV0y"
      }
    },
    {
      "cell_type": "code",
      "execution_count": 43,
      "metadata": {
        "id": "PUKZ5eSnUqdq"
      },
      "outputs": [],
      "source": [
        "y_pred_test = nb_classifier.predict(X_test_tfidf )\n",
        "\n",
        "y_pred_test = y_pred_test.astype(int)"
      ]
    },
    {
      "cell_type": "code",
      "execution_count": 44,
      "metadata": {
        "id": "zc4-nWg7Uytf"
      },
      "outputs": [],
      "source": [
        "result_df = pd.DataFrame({\n",
        "    'review_id': test_df['review_id'],\n",
        "    'rating': y_pred_test\n",
        "})\n",
        "\n",
        "\n",
        "result_df.to_csv('/content/drive/MyDrive/NB_submission.csv', index=False, columns=[\"review_id\", \"rating\"])"
      ]
    },
    {
      "cell_type": "code",
      "execution_count": null,
      "metadata": {
        "id": "KHfogSEMWTKV"
      },
      "outputs": [],
      "source": [
        "test_df = pd.read_csv('/content/drive/MyDrive/LinearSVC_submission.csv')"
      ]
    },
    {
      "cell_type": "code",
      "execution_count": null,
      "metadata": {
        "colab": {
          "base_uri": "https://localhost:8080/"
        },
        "id": "TnapnfJGXWnc",
        "outputId": "b08b50b7-b7ea-42c0-8b03-fce244c195ae"
      },
      "outputs": [
        {
          "output_type": "execute_result",
          "data": {
            "text/plain": [
              "(270000, 2)"
            ]
          },
          "metadata": {},
          "execution_count": 24
        }
      ],
      "source": [
        "test_df.shape"
      ]
    }
  ],
  "metadata": {
    "colab": {
      "provenance": []
    },
    "kernelspec": {
      "display_name": "Python 3",
      "name": "python3"
    },
    "language_info": {
      "name": "python"
    }
  },
  "nbformat": 4,
  "nbformat_minor": 0
}